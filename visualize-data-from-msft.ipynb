{
 "cells": [
  {
   "cell_type": "markdown",
   "id": "adaptive-customs",
   "metadata": {},
   "source": [
    "# Visualize data from MFST"
   ]
  },
  {
   "cell_type": "code",
   "execution_count": 7,
   "id": "wound-federal",
   "metadata": {},
   "outputs": [],
   "source": [
    "import numpy as np \n",
    "import pandas as pd\n",
    "import matplotlib.pyplot as plt\n",
    "import seaborn as sns\n",
    "import datetime"
   ]
  },
  {
   "cell_type": "code",
   "execution_count": 8,
   "id": "hired-morris",
   "metadata": {},
   "outputs": [],
   "source": [
    "import warnings\n",
    "warnings.filterwarnings('ignore')"
   ]
  },
  {
   "cell_type": "code",
   "execution_count": 9,
   "id": "demonstrated-vietnam",
   "metadata": {},
   "outputs": [],
   "source": [
    "with open(\"data/MFST.csv\") as fp:\n",
    "    data = pd.read_csv(fp)"
   ]
  },
  {
   "cell_type": "code",
   "execution_count": 10,
   "id": "unusual-robert",
   "metadata": {},
   "outputs": [
    {
     "name": "stdout",
     "output_type": "stream",
     "text": [
      "                       Datetime        Open        High         Low  \\\n",
      "0     2020-07-27 09:30:00-04:00  202.462296  203.320007  200.860001   \n",
      "1     2020-07-27 10:30:00-04:00  201.024994  202.800003  201.024994   \n",
      "2     2020-07-27 11:30:00-04:00  201.639999  202.429993  201.309998   \n",
      "3     2020-07-27 12:30:00-04:00  201.718704  202.899994  201.550003   \n",
      "4     2020-07-27 13:30:00-04:00  202.839996  203.490005  202.520004   \n",
      "...                         ...         ...         ...         ...   \n",
      "1248  2021-04-13 10:30:00-04:00  257.539886  257.989990  256.829987   \n",
      "1249  2021-04-13 11:30:00-04:00  257.540009  258.059998  256.859985   \n",
      "1250  2021-04-13 12:30:00-04:00  257.910095  257.989990  257.200012   \n",
      "1251  2021-04-13 13:30:00-04:00  257.592194  258.096710  257.518311   \n",
      "1252  2021-04-13 13:53:51-04:00  257.869995  257.869995  257.869995   \n",
      "\n",
      "           Close   Volume  Dividends  Stock Splits  \n",
      "0     201.024994  7794168        0.0             0  \n",
      "1     201.639999  4167677        0.0             0  \n",
      "2     201.710007  2795524        0.0             0  \n",
      "3     202.839996  2304901        0.0             0  \n",
      "4     203.369995  2636541        0.0             0  \n",
      "...          ...      ...        ...           ...  \n",
      "1248  257.547089  2607964        0.0             0  \n",
      "1249  257.920013  2151453        0.0             0  \n",
      "1250  257.600006  1912028        0.0             0  \n",
      "1251  257.899994   506895        0.0             0  \n",
      "1252  257.869995        0        0.0             0  \n",
      "\n",
      "[1253 rows x 8 columns]\n"
     ]
    }
   ],
   "source": [
    "print(data)"
   ]
  },
  {
   "cell_type": "code",
   "execution_count": null,
   "id": "opposed-rapid",
   "metadata": {},
   "outputs": [],
   "source": []
  },
  {
   "cell_type": "code",
   "execution_count": null,
   "id": "expired-division",
   "metadata": {},
   "outputs": [],
   "source": []
  },
  {
   "cell_type": "code",
   "execution_count": null,
   "id": "arbitrary-symposium",
   "metadata": {},
   "outputs": [],
   "source": []
  }
 ],
 "metadata": {
  "kernelspec": {
   "display_name": "Python 3",
   "language": "python",
   "name": "python3"
  },
  "language_info": {
   "codemirror_mode": {
    "name": "ipython",
    "version": 3
   },
   "file_extension": ".py",
   "mimetype": "text/x-python",
   "name": "python",
   "nbconvert_exporter": "python",
   "pygments_lexer": "ipython3",
   "version": "3.7.10"
  }
 },
 "nbformat": 4,
 "nbformat_minor": 5
}
